{
 "cells": [
  {
   "cell_type": "code",
   "execution_count": null,
   "metadata": {
    "vscode": {
     "languageId": "plaintext"
    }
   },
   "outputs": [],
   "source": [
    "%%bash\n",
    "apt-get update\n",
    "apt-get install -y nvidia-cuda-toolkit\n",
    "nvcc --version\n",
    "apt-get install -y cmake gcc g++ mpich git\n",
    "if ! command -v g++ &> /dev/null\n",
    "then\n",
    "    apt-get install -y g++\n",
    "fi\n",
    "\n",
    "#kokkos install\n",
    "if [ -d \"kokkos\" ]; then\n",
    "    echo \"dir already there\"\n",
    "    rm -rf kokkos\n",
    "fi\n",
    "\n",
    "git clone https://github.com/kokkos/kokkos.git\n",
    "cd kokkos\n",
    "if [ -d \"build\" ]; then\n",
    "    echo \"build already there, deleting\"\n",
    "    rm -rf build\n",
    "fi\n",
    "mkdir build && cd build\n",
    "\n",
    "\n",
    "cmake .. \\\n",
    "    -DKokkos_ENABLE_CUDA=ON \\\n",
    "    -DKokkos_ENABLE_CUDA_LAMBDA=ON \\\n",
    "    -DKokkos_ARCH_VOLTA70=ON \\\n",
    "    -DCMAKE_CXX_COMPILER=$(which g++) \\\n",
    "    -DCMAKE_INSTALL_PREFIX=/usr/local/kokkos\n",
    "\n",
    "\n",
    "make -j$(nproc)\n",
    "make install\n",
    "\n",
    "#kokkos-kernels install\n",
    "cd ../..\n",
    "\n",
    "if [ -d \"kokkos-kernels\" ]; then\n",
    "    echo \"deleting previous copy...\"\n",
    "    rm -rf kokkos-kernels\n",
    "fi\n",
    "\n",
    "git clone https://github.com/kokkos/kokkos-kernels.git\n",
    "cd kokkos-kernels\n",
    "if [ -d \"build\" ]; then\n",
    "    echo \"build already there, again, deleting\"\n",
    "    rm -rf build\n",
    "fi\n",
    "mkdir build && cd build\n",
    "\n",
    "cmake .. \\\n",
    "    -DKokkos_ROOT=/usr/local/kokkos \\\n",
    "    -DKokkosKernels_ENABLE_ALL_COMPONENTS=ON \\\n",
    "    -DCMAKE_CXX_COMPILER=$(which g++) \\\n",
    "    -DCMAKE_INSTALL_PREFIX=/usr/local/kokkos-kernels\n",
    "\n",
    "#Finally installing kokkoskernels.\n",
    "make -j$(nproc)\n",
    "make install\n"
   ]
  },
  {
   "cell_type": "code",
   "execution_count": null,
   "metadata": {
    "vscode": {
     "languageId": "plaintext"
    }
   },
   "outputs": [],
   "source": [
    "!df -h"
   ]
  },
  {
   "cell_type": "code",
   "execution_count": null,
   "metadata": {
    "vscode": {
     "languageId": "plaintext"
    }
   },
   "outputs": [],
   "source": [
    "!cat /proc/cpuinfo"
   ]
  },
  {
   "cell_type": "code",
   "execution_count": null,
   "metadata": {
    "vscode": {
     "languageId": "plaintext"
    }
   },
   "outputs": [],
   "source": [
    "!cat /proc/meminfo"
   ]
  },
  {
   "cell_type": "code",
   "execution_count": null,
   "metadata": {
    "vscode": {
     "languageId": "plaintext"
    }
   },
   "outputs": [],
   "source": [
    "export CUDA_PATH=/usr/local/cuda\n",
    "export KOKKOS_PATH=/usr/local/Kokkos\n",
    "export LD_LIBRARY_PATH=$KOKKOS_PATH/lib:$LD_LIBRARY_PATH"
   ]
  },
  {
   "cell_type": "code",
   "execution_count": null,
   "metadata": {
    "vscode": {
     "languageId": "plaintext"
    }
   },
   "outputs": [],
   "source": [
    "from scipy.sparse import random as sparse_random\n",
    "from scipy.sparse import coo_matrix\n",
    "import networkx as nx\n",
    "\n",
    "filename = \"Queen4147.mtx\"\n",
    "sparse_matrix = load_sparse_matrix(filename)\n",
    "\n",
    "\n",
    "def partition(graph, num_partitions):\n",
    "    partitions = {i: [] for i in range(num_partitions)}\n",
    "    edge_list = list(graph.edges())\n",
    "    random.shuffle(edge_list)\n",
    "    for i, edge in enumerate(edge_list):\n",
    "        partition_index = i % num_partitions\n",
    "        partitions[partition_index].append(edge)\n",
    "\n",
    "    return partitions\n",
    "\n",
    "G_queen4147 = load_queen4147()\n",
    "print(nx.info(G_queen4147))\n",
    "\n",
    "partitions_queen4147 = simulate_partition(G_queen4147, num_partitions)"
   ]
  },
  {
   "cell_type": "code",
   "execution_count": null,
   "metadata": {
    "vscode": {
     "languageId": "plaintext"
    }
   },
   "outputs": [],
   "source": [
    "// Queen4147_D1Coloring.cu\n",
    "#include <KokkosKernels_default_types.hpp>\n",
    "#include <KokkosKernels_Handle.hpp>\n",
    "#include <KokkosKernels_GraphColor.hpp>\n",
    "#include <Kokkos_Core.hpp>\n",
    "#include <Kokkos_Random.hpp>\n",
    "#include <cuda_runtime.h>\n",
    "#include <chrono>\n",
    "\n",
    "namespace KokkosSparse {\n",
    "namespace Experimental {\n",
    "\n",
    "template<class KernelHandle, class lno_row_view_t_, class lno_nnz_view_t_>\n",
    "void graph_color_d1(KernelHandle *handle,\n",
    "                    typename KernelHandle::const_nnz_lno_t num_verts,\n",
    "                    typename KernelHandle::const_nnz_lno_t num_edges,\n",
    "                    lno_row_view_t_ row_map,\n",
    "                    lno_nnz_view_t_ entries) {\n",
    "    using execution_space = typename KernelHandle::execution_space;\n",
    "    using memory_space = typename KernelHandle::memory_space;\n",
    "    using size_type = typename KernelHandle::size_type;\n",
    "    using color_type = typename KernelHandle::color_type;\n",
    "    using device_type = Kokkos::Device<execution_space, memory_space>;\n",
    "    \n",
    "    handle->create_graph_coloring_handle(COLORING_D1);\n",
    "    auto coloring_handle = handle->get_graph_coloring_handle();\n",
    "    coloring_handle->set_vertex_count(num_verts);\n",
    "    coloring_handle->set_edge_count(num_edges);\n",
    "    coloring_handle->set_vb_edge_ratio(4);\n",
    "    \n",
    "    Kokkos::View<color_type*, device_type> colors(\"Colors\", num_verts);\n",
    "    \n",
    "    Kokkos::parallel_for(\"D1Coloring\",\n",
    "        Kokkos::RangePolicy<execution_space>(0, num_verts),\n",
    "        KOKKOS_LAMBDA(const size_type vertex) {\n",
    "            const size_type my_row_start = row_map(vertex);\n",
    "            const size_type my_row_end = row_map(vertex + 1);\n",
    "            Kokkos::View<char*, device_type> forbidden_colors(\"Forbidden\", 256);\n",
    "            for (size_type edge = my_row_start; edge < my_row_end; ++edge) {\n",
    "                const size_type neighbor = entries(edge);\n",
    "                if (neighbor != vertex) {\n",
    "                    const color_type neighbor_color = colors(neighbor);\n",
    "                    if (neighbor_color != 0) forbidden_colors(neighbor_color) = 1;\n",
    "                }\n",
    "            }\n",
    "            color_type my_color = 1;\n",
    "            while (forbidden_colors(my_color) != 0) ++my_color;\n",
    "            colors(vertex) = my_color;\n",
    "        });\n",
    "\n",
    "    size_type num_conflicts = 0;\n",
    "    Kokkos::parallel_reduce(\"VerifyColoring\",\n",
    "        Kokkos::RangePolicy<execution_space>(0, num_verts),\n",
    "        KOKKOS_LAMBDA(const size_type vertex, size_type& update) {\n",
    "            const size_type my_row_start = row_map(vertex);\n",
    "            const size_type my_row_end = row_map(vertex + 1);\n",
    "            const color_type my_color = colors(vertex);\n",
    "            for (size_type edge = my_row_start; edge < my_row_end; ++edge) {\n",
    "                const size_type neighbor = entries(edge);\n",
    "                if (neighbor != vertex && my_color == colors(neighbor)) update++;\n",
    "            }\n",
    "        }, num_conflicts);\n",
    "\n",
    "    coloring_handle->set_color_view(colors);\n",
    "    coloring_handle->set_num_colors(256);\n",
    "    coloring_handle->set_num_conflicts(num_conflicts);\n",
    "}\n",
    "}\n",
    "}\n",
    "\n",
    "int main(int argc, char* argv[]) {\n",
    "    Kokkos::initialize(argc, argv);\n",
    "    {\n",
    "        using ExecutionSpace = Kokkos::Cuda;\n",
    "        using MemorySpace = Kokkos::CudaSpace;\n",
    "        using device_type = Kokkos::Device<ExecutionSpace, MemorySpace>;\n",
    "        \n",
    "        using size_type = int;\n",
    "        using lno_t = int;\n",
    "        using scalar_t = double;\n",
    "        \n",
    "        KokkosKernels::Experimental::KokkosKernelsHandle\n",
    "            <size_type, lno_t, scalar_t, ExecutionSpace, MemorySpace, MemorySpace> handle;\n",
    "        \n",
    "        size_type num_rows = 4147;\n",
    "        size_type num_nnz = 193887;\n",
    "        \n",
    "        Kokkos::View<size_type*, device_type> row_map(\"row_map\", num_rows + 1);\n",
    "        Kokkos::View<lno_t*, device_type> entries(\"entries\", num_nnz);\n",
    "\n",
    "        cudaEvent_t start, stop;\n",
    "        cudaEventCreate(&start);\n",
    "        cudaEventCreate(&stop);\n",
    "        \n",
    "        cudaEventRecord(start);\n",
    "        KokkosSparse::Experimental::graph_color_d1(&handle, num_rows, num_nnz, row_map, entries);\n",
    "        cudaEventRecord(stop);\n",
    "        \n",
    "        cudaEventSynchronize(stop);\n",
    "        float milliseconds = 0;\n",
    "        cudaEventElapsedTime(&milliseconds, start, stop);\n",
    "        \n",
    "        auto coloring_handle = handle.get_graph_coloring_handle();\n",
    "        printf(\"Queen4147 D1 Coloring Results:\\n\");\n",
    "        printf(\"Colors used: %d\\n\", coloring_handle->get_num_colors());\n",
    "        printf(\"Conflicts: %d\\n\", coloring_handle->get_num_conflicts());\n",
    "        printf(\"Execution time: %f ms\\n\", milliseconds);\n",
    "        \n",
    "        cudaEventDestroy(start);\n",
    "        cudaEventDestroy(stop);\n",
    "    }\n",
    "    Kokkos::finalize();\n",
    "    return 0;\n",
    "}"
   ]
  },
  {
   "cell_type": "code",
   "execution_count": null,
   "metadata": {
    "vscode": {
     "languageId": "plaintext"
    }
   },
   "outputs": [],
   "source": [
    "nvcc -O3 -arch=sm_75 Queen4147_D1Coloring.cu -I${KOKKOS_PATH}/include -L${KOKKOS_PATH}/lib -lkokkos -lkokkoskernels -o queen4147_coloring\n",
    "\n",
    "./queen4147_coloring"
   ]
  },
  {
   "cell_type": "code",
   "execution_count": null,
   "metadata": {
    "vscode": {
     "languageId": "plaintext"
    }
   },
   "outputs": [],
   "source": []
  }
 ],
 "metadata": {
  "language_info": {
   "name": "python"
  }
 },
 "nbformat": 4,
 "nbformat_minor": 2
}
